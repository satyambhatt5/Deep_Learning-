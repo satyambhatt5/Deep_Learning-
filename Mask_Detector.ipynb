{
  "nbformat": 4,
  "nbformat_minor": 0,
  "metadata": {
    "colab": {
      "name": "Mask Detector.ipynb",
      "private_outputs": true,
      "provenance": [],
      "collapsed_sections": [],
      "mount_file_id": "1ARcqhNJLQKyOCovbBERcjhMRY42AbwJo",
      "authorship_tag": "ABX9TyPxhXdk2VrDixSGL3COql+1",
      "include_colab_link": true
    },
    "kernelspec": {
      "name": "python3",
      "display_name": "Python 3"
    },
    "accelerator": "GPU"
  },
  "cells": [
    {
      "cell_type": "markdown",
      "metadata": {
        "id": "view-in-github",
        "colab_type": "text"
      },
      "source": [
        "<a href=\"https://colab.research.google.com/github/satyambhatt5/Deep_Learning-/blob/main/Mask_Detector.ipynb\" target=\"_parent\"><img src=\"https://colab.research.google.com/assets/colab-badge.svg\" alt=\"Open In Colab\"/></a>"
      ]
    },
    {
      "cell_type": "code",
      "metadata": {
        "id": "nhDfcvrD5slU"
      },
      "source": [
        "import pandas as pd\r\n",
        "import numpy as np\r\n",
        "import matplotlib.pyplot as plt\r\n",
        "import cv2\r\n",
        "from sklearn.model_selection import train_test_split\r\n",
        "import tensorflow as tf\r\n",
        "import pandas as pd\r\n",
        "import numpy as np\r\n",
        "# import the necessary packages\r\n",
        "from tensorflow.keras.preprocessing.image import ImageDataGenerator\r\n",
        "from tensorflow.keras.applications import MobileNetV2\r\n",
        "from tensorflow.keras.layers import AveragePooling2D\r\n",
        "from tensorflow.keras.layers import Dropout\r\n",
        "from tensorflow.keras.layers import Flatten\r\n",
        "from tensorflow.keras.layers import Dense\r\n",
        "from tensorflow.keras.layers import Input\r\n",
        "from tensorflow.keras.models import Model\r\n",
        "from tensorflow.keras.optimizers import Adam\r\n",
        "from tensorflow.keras.applications.mobilenet_v2 import preprocess_input\r\n",
        "from tensorflow.keras.preprocessing.image import img_to_array\r\n",
        "from tensorflow.keras.preprocessing.image import load_img\r\n",
        "from tensorflow.keras.utils import to_categorical\r\n",
        "from sklearn.preprocessing import LabelBinarizer\r\n",
        "from sklearn.model_selection import train_test_split\r\n",
        "from sklearn.metrics import classification_report\r\n",
        "from imutils import paths\r\n",
        "import matplotlib.pyplot as plt\r\n",
        "import numpy as np\r\n",
        "import os"
      ],
      "execution_count": null,
      "outputs": []
    },
    {
      "cell_type": "code",
      "metadata": {
        "id": "W_PV1XTJaZja"
      },
      "source": [
        "! ls \"/content/drive/MyDrive/Colab Notebooks/dataset\""
      ],
      "execution_count": null,
      "outputs": []
    },
    {
      "cell_type": "code",
      "metadata": {
        "id": "PGyNGFRTZ7Nl"
      },
      "source": [
        "#os.listdir(\"/content/drive/MyDrive/Colab Notebooks/dataset\")\r\n",
        "#os.listdir(\"/content/drive/MyDrive/Colab Notebooks/dataset/with_mask\")\r\n"
      ],
      "execution_count": null,
      "outputs": []
    },
    {
      "cell_type": "code",
      "metadata": {
        "id": "1j6KVyrXavLy"
      },
      "source": [
        "len(os.listdir(\"/content/drive/MyDrive/Colab Notebooks/dataset/with_mask\")),len(os.listdir(\"/content/drive/MyDrive/Colab Notebooks/dataset/without_mask\"))"
      ],
      "execution_count": null,
      "outputs": []
    },
    {
      "cell_type": "code",
      "metadata": {
        "id": "UbOFoCBgbLBc"
      },
      "source": [
        ""
      ],
      "execution_count": null,
      "outputs": []
    },
    {
      "cell_type": "code",
      "metadata": {
        "id": "zRwH9K8FbKwn"
      },
      "source": [
        ""
      ],
      "execution_count": null,
      "outputs": []
    },
    {
      "cell_type": "code",
      "metadata": {
        "id": "fzaUxgnNVS60"
      },
      "source": [
        "# initialize the initial learning rate, number of epochs to train for,\r\n",
        "# and batch size\r\n",
        "INIT_LR = 1e-4\r\n",
        "EPOCHS = 20\r\n",
        "BS = 32\r\n",
        "\r\n",
        "DIRECTORY = \"/content/drive/MyDrive/Colab Notebooks/dataset\"\r\n",
        "DIRECTORY\r\n",
        "CATEGORIES = [\"with_mask\", \"without_mask\"]\r\n",
        "\r\n",
        "# grab the list of images in our dataset directory, then initialize\r\n",
        "# the list of data (i.e., images) and class images\r\n",
        "print(\"[INFO] loading images...\")"
      ],
      "execution_count": null,
      "outputs": []
    },
    {
      "cell_type": "code",
      "metadata": {
        "id": "IW6Dkd47Xl33"
      },
      "source": [
        "from tqdm import notebook"
      ],
      "execution_count": null,
      "outputs": []
    },
    {
      "cell_type": "code",
      "metadata": {
        "id": "pzYqMHmI9RIJ"
      },
      "source": [
        "data = []\r\n",
        "labels = []\r\n",
        "for category in CATEGORIES:\r\n",
        "    path = os.path.join(DIRECTORY, category)\r\n",
        "    for img in notebook.tqdm_notebook(os.listdir(path)):\r\n",
        "    \timg_path = os.path.join(path, img)\r\n",
        "    \timage = load_img(img_path, target_size=(224, 224))\r\n",
        "    \timage = img_to_array(image)\r\n",
        "    \timage = preprocess_input(image)\r\n",
        "\r\n",
        "    \tdata.append(image)\r\n",
        "    \tlabels.append(category)\r\n",
        "\r\n"
      ],
      "execution_count": null,
      "outputs": []
    },
    {
      "cell_type": "code",
      "metadata": {
        "id": "gkmGydyL29ga"
      },
      "source": [
        "# perform one-hot encoding on the labels\r\n",
        "lb = LabelBinarizer()\r\n",
        "labels = lb.fit_transform(labels)\r\n",
        "labels = to_categorical(labels)"
      ],
      "execution_count": null,
      "outputs": []
    },
    {
      "cell_type": "code",
      "metadata": {
        "id": "2CRurZic2gTW"
      },
      "source": [
        "#now array them \r\n",
        "\r\n",
        "data = np.array(data, dtype=\"float32\")\r\n",
        "labels = np.array(labels)\r\n",
        "labels"
      ],
      "execution_count": null,
      "outputs": []
    },
    {
      "cell_type": "code",
      "metadata": {
        "id": "CGwsCMpyZlT9"
      },
      "source": [
        "#spliting the data \r\n",
        "\r\n",
        "(trainX, testX, trainY, testY) = train_test_split(data, labels,\r\n",
        "\ttest_size=0.20, stratify=labels, random_state=42)"
      ],
      "execution_count": null,
      "outputs": []
    },
    {
      "cell_type": "code",
      "metadata": {
        "id": "z9iYkZqh4Kq5"
      },
      "source": [
        "trainX.shape,testX.shape,trainY.shape,testY.shape"
      ],
      "execution_count": null,
      "outputs": []
    },
    {
      "cell_type": "code",
      "metadata": {
        "id": "sSwq_K9HUIM4"
      },
      "source": [
        "# construct the training image generator for data augmentation\r\n",
        "\r\n",
        "aug = ImageDataGenerator(\r\n",
        "\trotation_range=20,\r\n",
        "\tzoom_range=0.15,\r\n",
        "\twidth_shift_range=0.2,\r\n",
        "\theight_shift_range=0.2,\r\n",
        "\tshear_range=0.15,\r\n",
        "\thorizontal_flip=True,\r\n",
        "\tfill_mode=\"nearest\")\r\n",
        "\r\n",
        "\r\n",
        "\r\n",
        "\r\n",
        "\r\n",
        "\r\n",
        "\r\n",
        "\r\n",
        "\r\n"
      ],
      "execution_count": null,
      "outputs": []
    },
    {
      "cell_type": "code",
      "metadata": {
        "id": "oYjVv9b2Ukq5"
      },
      "source": [
        "# load the MobileNetV2 network, ensuring the head FC layer sets are\r\n",
        "# left off\r\n",
        "baseModel = MobileNetV2(weights=\"imagenet\", include_top=False,input_tensor=Input(shape=(224, 224, 3)))\r\n"
      ],
      "execution_count": null,
      "outputs": []
    },
    {
      "cell_type": "code",
      "metadata": {
        "id": "NEDQ7OpT4vrj"
      },
      "source": [
        "baseModel.summary()"
      ],
      "execution_count": null,
      "outputs": []
    },
    {
      "cell_type": "code",
      "metadata": {
        "id": "aQseT_Q0UPxP"
      },
      "source": [
        "\r\n",
        "# construct the head of the model that will be placed on top of the\r\n",
        "# the base model\r\n",
        "headModel = baseModel.output\r\n",
        "headModel = AveragePooling2D(pool_size=(7, 7))(headModel)\r\n",
        "headModel = Flatten(name=\"flatten\")(headModel)\r\n",
        "headModel = Dense(128, activation=\"relu\")(headModel)\r\n",
        "headModel = Dropout(0.5)(headModel)\r\n",
        "headModel = Dense(2, activation=\"softmax\")(headModel)\r\n",
        "\r\n"
      ],
      "execution_count": null,
      "outputs": []
    },
    {
      "cell_type": "code",
      "metadata": {
        "id": "Qyg5JXHvUgvT"
      },
      "source": [
        "# place the head FC model on top of the base model (this will become\r\n",
        "# the actual model we will train)\r\n",
        "model = Model(inputs=baseModel.input, outputs=headModel)"
      ],
      "execution_count": null,
      "outputs": []
    },
    {
      "cell_type": "code",
      "metadata": {
        "id": "Xm08OZQrUvxB"
      },
      "source": [
        "# loop over all layers in the base model and freeze them so they will\r\n",
        "# *not* be updated during the first training process\r\n",
        "for layer in baseModel.layers:\r\n",
        "\tlayer.trainable = False\r\n",
        "  "
      ],
      "execution_count": null,
      "outputs": []
    },
    {
      "cell_type": "code",
      "metadata": {
        "id": "fTwRKLPsUy0N"
      },
      "source": [
        "# compile our model\r\n",
        "print(\"[INFO] compiling model...\")\r\n",
        "#here the learning rate of the model  INIT_LR = 1e-4,EPOCHS = 20\r\n",
        "opt = Adam(lr=INIT_LR, decay=INIT_LR / EPOCHS)\r\n",
        "model.compile(loss=\"binary_crossentropy\", optimizer=opt,metrics=[\"accuracy\"])"
      ],
      "execution_count": null,
      "outputs": []
    },
    {
      "cell_type": "code",
      "metadata": {
        "id": "ZedQZt8QUcLZ"
      },
      "source": [
        "\r\n",
        "\r\n",
        "\r\n",
        "\r\n",
        "# train the head of the network\r\n",
        "print(\"[INFO] training head...\")\r\n",
        "H = model.fit(aug.flow(trainX, trainY, batch_size=BS),steps_per_epoch=len(trainX) // BS,validation_data=(testX, testY),validation_steps=len(testX) // BS,\r\n",
        "\tepochs=EPOCHS)\r\n"
      ],
      "execution_count": null,
      "outputs": []
    },
    {
      "cell_type": "code",
      "metadata": {
        "id": "KuFN_L11U8kd"
      },
      "source": [
        "# make predictions on the testing set\r\n",
        "print(\"[INFO] evaluating network...\")\r\n",
        "predIdxs = model.predict(testX, batch_size=BS)\r\n",
        "\r\n",
        "# for each image in the testing set we need to find the index of the\r\n",
        "# label with corresponding largest predicted probability\r\n",
        "predIdxs = np.argmax(predIdxs, axis=1)"
      ],
      "execution_count": null,
      "outputs": []
    },
    {
      "cell_type": "code",
      "metadata": {
        "id": "yQqJUSsEU-gj"
      },
      "source": [
        "# show a nicely formatted classification report\r\n",
        "print(classification_report(testY.argmax(axis=1), predIdxs,target_names=lb.classes_))"
      ],
      "execution_count": null,
      "outputs": []
    },
    {
      "cell_type": "code",
      "metadata": {
        "id": "ZFASw7fVVDcm"
      },
      "source": [
        "# serialize the model to disk\r\n",
        "print(\"[INFO] saving mask detector model...\")\r\n",
        "model.save(\"mask_detector.model\", save_format=\"h5\")\r\n"
      ],
      "execution_count": null,
      "outputs": []
    },
    {
      "cell_type": "code",
      "metadata": {
        "id": "bt3JMqkiVH4E"
      },
      "source": [
        "# plot the training loss and accuracy\r\n",
        "N = EPOCHS\r\n",
        "plt.style.use(\"ggplot\")\r\n",
        "plt.figure()\r\n",
        "plt.plot(np.arange(0, N), H.history[\"loss\"], label=\"train_loss\")\r\n",
        "plt.plot(np.arange(0, N), H.history[\"val_loss\"], label=\"val_loss\")\r\n",
        "plt.plot(np.arange(0, N), H.history[\"accuracy\"], label=\"train_acc\")\r\n",
        "plt.plot(np.arange(0, N), H.history[\"val_accuracy\"], label=\"val_acc\")\r\n",
        "plt.title(\"Training Loss and Accuracy\")\r\n",
        "plt.xlabel(\"Epoch #\")\r\n",
        "plt.ylabel(\"Loss/Accuracy\")\r\n",
        "plt.legend(loc=\"lower left\")\r\n",
        "plt.savefig(\"plot.png\")"
      ],
      "execution_count": null,
      "outputs": []
    },
    {
      "cell_type": "code",
      "metadata": {
        "id": "4-E4jXRb-KP9"
      },
      "source": [
        ""
      ],
      "execution_count": null,
      "outputs": []
    }
  ]
}