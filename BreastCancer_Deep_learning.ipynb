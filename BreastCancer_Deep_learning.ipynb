{
  "nbformat": 4,
  "nbformat_minor": 0,
  "metadata": {
    "colab": {
      "name": "BreastCancer Deep learning.ipynb",
      "provenance": [],
      "include_colab_link": true
    },
    "kernelspec": {
      "name": "python3",
      "display_name": "Python 3"
    }
  },
  "cells": [
    {
      "cell_type": "markdown",
      "metadata": {
        "id": "view-in-github",
        "colab_type": "text"
      },
      "source": [
        "<a href=\"https://colab.research.google.com/github/satyambhatt5/Deep_Learning-/blob/main/BreastCancer_Deep_learning.ipynb\" target=\"_parent\"><img src=\"https://colab.research.google.com/assets/colab-badge.svg\" alt=\"Open In Colab\"/></a>"
      ]
    },
    {
      "cell_type": "markdown",
      "metadata": {
        "id": "Oex88qd38Thn"
      },
      "source": [
        "In this first cell we will upload the CSV files that contain the pre-sorted and pre-normalized data. \n",
        "For these I used the Wisconsin breast cancer dataset, sorted it into training and test sets with the 'input' values to the Neural Network as 'X' values, and the expected 'output' (a 0 if benign and a 1 if malignant) as the 'Y' values.\n"
      ]
    },
    {
      "cell_type": "code",
      "metadata": {
        "id": "m_NRnXsJzphf",
        "colab": {
          "resources": {
            "http://localhost:8080/nbextensions/google.colab/files.js": {
              "data": "Ly8gQ29weXJpZ2h0IDIwMTcgR29vZ2xlIExMQwovLwovLyBMaWNlbnNlZCB1bmRlciB0aGUgQXBhY2hlIExpY2Vuc2UsIFZlcnNpb24gMi4wICh0aGUgIkxpY2Vuc2UiKTsKLy8geW91IG1heSBub3QgdXNlIHRoaXMgZmlsZSBleGNlcHQgaW4gY29tcGxpYW5jZSB3aXRoIHRoZSBMaWNlbnNlLgovLyBZb3UgbWF5IG9idGFpbiBhIGNvcHkgb2YgdGhlIExpY2Vuc2UgYXQKLy8KLy8gICAgICBodHRwOi8vd3d3LmFwYWNoZS5vcmcvbGljZW5zZXMvTElDRU5TRS0yLjAKLy8KLy8gVW5sZXNzIHJlcXVpcmVkIGJ5IGFwcGxpY2FibGUgbGF3IG9yIGFncmVlZCB0byBpbiB3cml0aW5nLCBzb2Z0d2FyZQovLyBkaXN0cmlidXRlZCB1bmRlciB0aGUgTGljZW5zZSBpcyBkaXN0cmlidXRlZCBvbiBhbiAiQVMgSVMiIEJBU0lTLAovLyBXSVRIT1VUIFdBUlJBTlRJRVMgT1IgQ09ORElUSU9OUyBPRiBBTlkgS0lORCwgZWl0aGVyIGV4cHJlc3Mgb3IgaW1wbGllZC4KLy8gU2VlIHRoZSBMaWNlbnNlIGZvciB0aGUgc3BlY2lmaWMgbGFuZ3VhZ2UgZ292ZXJuaW5nIHBlcm1pc3Npb25zIGFuZAovLyBsaW1pdGF0aW9ucyB1bmRlciB0aGUgTGljZW5zZS4KCi8qKgogKiBAZmlsZW92ZXJ2aWV3IEhlbHBlcnMgZm9yIGdvb2dsZS5jb2xhYiBQeXRob24gbW9kdWxlLgogKi8KKGZ1bmN0aW9uKHNjb3BlKSB7CmZ1bmN0aW9uIHNwYW4odGV4dCwgc3R5bGVBdHRyaWJ1dGVzID0ge30pIHsKICBjb25zdCBlbGVtZW50ID0gZG9jdW1lbnQuY3JlYXRlRWxlbWVudCgnc3BhbicpOwogIGVsZW1lbnQudGV4dENvbnRlbnQgPSB0ZXh0OwogIGZvciAoY29uc3Qga2V5IG9mIE9iamVjdC5rZXlzKHN0eWxlQXR0cmlidXRlcykpIHsKICAgIGVsZW1lbnQuc3R5bGVba2V5XSA9IHN0eWxlQXR0cmlidXRlc1trZXldOwogIH0KICByZXR1cm4gZWxlbWVudDsKfQoKLy8gTWF4IG51bWJlciBvZiBieXRlcyB3aGljaCB3aWxsIGJlIHVwbG9hZGVkIGF0IGEgdGltZS4KY29uc3QgTUFYX1BBWUxPQURfU0laRSA9IDEwMCAqIDEwMjQ7CgpmdW5jdGlvbiBfdXBsb2FkRmlsZXMoaW5wdXRJZCwgb3V0cHV0SWQpIHsKICBjb25zdCBzdGVwcyA9IHVwbG9hZEZpbGVzU3RlcChpbnB1dElkLCBvdXRwdXRJZCk7CiAgY29uc3Qgb3V0cHV0RWxlbWVudCA9IGRvY3VtZW50LmdldEVsZW1lbnRCeUlkKG91dHB1dElkKTsKICAvLyBDYWNoZSBzdGVwcyBvbiB0aGUgb3V0cHV0RWxlbWVudCB0byBtYWtlIGl0IGF2YWlsYWJsZSBmb3IgdGhlIG5leHQgY2FsbAogIC8vIHRvIHVwbG9hZEZpbGVzQ29udGludWUgZnJvbSBQeXRob24uCiAgb3V0cHV0RWxlbWVudC5zdGVwcyA9IHN0ZXBzOwoKICByZXR1cm4gX3VwbG9hZEZpbGVzQ29udGludWUob3V0cHV0SWQpOwp9CgovLyBUaGlzIGlzIHJvdWdobHkgYW4gYXN5bmMgZ2VuZXJhdG9yIChub3Qgc3VwcG9ydGVkIGluIHRoZSBicm93c2VyIHlldCksCi8vIHdoZXJlIHRoZXJlIGFyZSBtdWx0aXBsZSBhc3luY2hyb25vdXMgc3RlcHMgYW5kIHRoZSBQeXRob24gc2lkZSBpcyBnb2luZwovLyB0byBwb2xsIGZvciBjb21wbGV0aW9uIG9mIGVhY2ggc3RlcC4KLy8gVGhpcyB1c2VzIGEgUHJvbWlzZSB0byBibG9jayB0aGUgcHl0aG9uIHNpZGUgb24gY29tcGxldGlvbiBvZiBlYWNoIHN0ZXAsCi8vIHRoZW4gcGFzc2VzIHRoZSByZXN1bHQgb2YgdGhlIHByZXZpb3VzIHN0ZXAgYXMgdGhlIGlucHV0IHRvIHRoZSBuZXh0IHN0ZXAuCmZ1bmN0aW9uIF91cGxvYWRGaWxlc0NvbnRpbnVlKG91dHB1dElkKSB7CiAgY29uc3Qgb3V0cHV0RWxlbWVudCA9IGRvY3VtZW50LmdldEVsZW1lbnRCeUlkKG91dHB1dElkKTsKICBjb25zdCBzdGVwcyA9IG91dHB1dEVsZW1lbnQuc3RlcHM7CgogIGNvbnN0IG5leHQgPSBzdGVwcy5uZXh0KG91dHB1dEVsZW1lbnQubGFzdFByb21pc2VWYWx1ZSk7CiAgcmV0dXJuIFByb21pc2UucmVzb2x2ZShuZXh0LnZhbHVlLnByb21pc2UpLnRoZW4oKHZhbHVlKSA9PiB7CiAgICAvLyBDYWNoZSB0aGUgbGFzdCBwcm9taXNlIHZhbHVlIHRvIG1ha2UgaXQgYXZhaWxhYmxlIHRvIHRoZSBuZXh0CiAgICAvLyBzdGVwIG9mIHRoZSBnZW5lcmF0b3IuCiAgICBvdXRwdXRFbGVtZW50Lmxhc3RQcm9taXNlVmFsdWUgPSB2YWx1ZTsKICAgIHJldHVybiBuZXh0LnZhbHVlLnJlc3BvbnNlOwogIH0pOwp9CgovKioKICogR2VuZXJhdG9yIGZ1bmN0aW9uIHdoaWNoIGlzIGNhbGxlZCBiZXR3ZWVuIGVhY2ggYXN5bmMgc3RlcCBvZiB0aGUgdXBsb2FkCiAqIHByb2Nlc3MuCiAqIEBwYXJhbSB7c3RyaW5nfSBpbnB1dElkIEVsZW1lbnQgSUQgb2YgdGhlIGlucHV0IGZpbGUgcGlja2VyIGVsZW1lbnQuCiAqIEBwYXJhbSB7c3RyaW5nfSBvdXRwdXRJZCBFbGVtZW50IElEIG9mIHRoZSBvdXRwdXQgZGlzcGxheS4KICogQHJldHVybiB7IUl0ZXJhYmxlPCFPYmplY3Q+fSBJdGVyYWJsZSBvZiBuZXh0IHN0ZXBzLgogKi8KZnVuY3Rpb24qIHVwbG9hZEZpbGVzU3RlcChpbnB1dElkLCBvdXRwdXRJZCkgewogIGNvbnN0IGlucHV0RWxlbWVudCA9IGRvY3VtZW50LmdldEVsZW1lbnRCeUlkKGlucHV0SWQpOwogIGlucHV0RWxlbWVudC5kaXNhYmxlZCA9IGZhbHNlOwoKICBjb25zdCBvdXRwdXRFbGVtZW50ID0gZG9jdW1lbnQuZ2V0RWxlbWVudEJ5SWQob3V0cHV0SWQpOwogIG91dHB1dEVsZW1lbnQuaW5uZXJIVE1MID0gJyc7CgogIGNvbnN0IHBpY2tlZFByb21pc2UgPSBuZXcgUHJvbWlzZSgocmVzb2x2ZSkgPT4gewogICAgaW5wdXRFbGVtZW50LmFkZEV2ZW50TGlzdGVuZXIoJ2NoYW5nZScsIChlKSA9PiB7CiAgICAgIHJlc29sdmUoZS50YXJnZXQuZmlsZXMpOwogICAgfSk7CiAgfSk7CgogIGNvbnN0IGNhbmNlbCA9IGRvY3VtZW50LmNyZWF0ZUVsZW1lbnQoJ2J1dHRvbicpOwogIGlucHV0RWxlbWVudC5wYXJlbnRFbGVtZW50LmFwcGVuZENoaWxkKGNhbmNlbCk7CiAgY2FuY2VsLnRleHRDb250ZW50ID0gJ0NhbmNlbCB1cGxvYWQnOwogIGNvbnN0IGNhbmNlbFByb21pc2UgPSBuZXcgUHJvbWlzZSgocmVzb2x2ZSkgPT4gewogICAgY2FuY2VsLm9uY2xpY2sgPSAoKSA9PiB7CiAgICAgIHJlc29sdmUobnVsbCk7CiAgICB9OwogIH0pOwoKICAvLyBXYWl0IGZvciB0aGUgdXNlciB0byBwaWNrIHRoZSBmaWxlcy4KICBjb25zdCBmaWxlcyA9IHlpZWxkIHsKICAgIHByb21pc2U6IFByb21pc2UucmFjZShbcGlja2VkUHJvbWlzZSwgY2FuY2VsUHJvbWlzZV0pLAogICAgcmVzcG9uc2U6IHsKICAgICAgYWN0aW9uOiAnc3RhcnRpbmcnLAogICAgfQogIH07CgogIGNhbmNlbC5yZW1vdmUoKTsKCiAgLy8gRGlzYWJsZSB0aGUgaW5wdXQgZWxlbWVudCBzaW5jZSBmdXJ0aGVyIHBpY2tzIGFyZSBub3QgYWxsb3dlZC4KICBpbnB1dEVsZW1lbnQuZGlzYWJsZWQgPSB0cnVlOwoKICBpZiAoIWZpbGVzKSB7CiAgICByZXR1cm4gewogICAgICByZXNwb25zZTogewogICAgICAgIGFjdGlvbjogJ2NvbXBsZXRlJywKICAgICAgfQogICAgfTsKICB9CgogIGZvciAoY29uc3QgZmlsZSBvZiBmaWxlcykgewogICAgY29uc3QgbGkgPSBkb2N1bWVudC5jcmVhdGVFbGVtZW50KCdsaScpOwogICAgbGkuYXBwZW5kKHNwYW4oZmlsZS5uYW1lLCB7Zm9udFdlaWdodDogJ2JvbGQnfSkpOwogICAgbGkuYXBwZW5kKHNwYW4oCiAgICAgICAgYCgke2ZpbGUudHlwZSB8fCAnbi9hJ30pIC0gJHtmaWxlLnNpemV9IGJ5dGVzLCBgICsKICAgICAgICBgbGFzdCBtb2RpZmllZDogJHsKICAgICAgICAgICAgZmlsZS5sYXN0TW9kaWZpZWREYXRlID8gZmlsZS5sYXN0TW9kaWZpZWREYXRlLnRvTG9jYWxlRGF0ZVN0cmluZygpIDoKICAgICAgICAgICAgICAgICAgICAgICAgICAgICAgICAgICAgJ24vYSd9IC0gYCkpOwogICAgY29uc3QgcGVyY2VudCA9IHNwYW4oJzAlIGRvbmUnKTsKICAgIGxpLmFwcGVuZENoaWxkKHBlcmNlbnQpOwoKICAgIG91dHB1dEVsZW1lbnQuYXBwZW5kQ2hpbGQobGkpOwoKICAgIGNvbnN0IGZpbGVEYXRhUHJvbWlzZSA9IG5ldyBQcm9taXNlKChyZXNvbHZlKSA9PiB7CiAgICAgIGNvbnN0IHJlYWRlciA9IG5ldyBGaWxlUmVhZGVyKCk7CiAgICAgIHJlYWRlci5vbmxvYWQgPSAoZSkgPT4gewogICAgICAgIHJlc29sdmUoZS50YXJnZXQucmVzdWx0KTsKICAgICAgfTsKICAgICAgcmVhZGVyLnJlYWRBc0FycmF5QnVmZmVyKGZpbGUpOwogICAgfSk7CiAgICAvLyBXYWl0IGZvciB0aGUgZGF0YSB0byBiZSByZWFkeS4KICAgIGxldCBmaWxlRGF0YSA9IHlpZWxkIHsKICAgICAgcHJvbWlzZTogZmlsZURhdGFQcm9taXNlLAogICAgICByZXNwb25zZTogewogICAgICAgIGFjdGlvbjogJ2NvbnRpbnVlJywKICAgICAgfQogICAgfTsKCiAgICAvLyBVc2UgYSBjaHVua2VkIHNlbmRpbmcgdG8gYXZvaWQgbWVzc2FnZSBzaXplIGxpbWl0cy4gU2VlIGIvNjIxMTU2NjAuCiAgICBsZXQgcG9zaXRpb24gPSAwOwogICAgd2hpbGUgKHBvc2l0aW9uIDwgZmlsZURhdGEuYnl0ZUxlbmd0aCkgewogICAgICBjb25zdCBsZW5ndGggPSBNYXRoLm1pbihmaWxlRGF0YS5ieXRlTGVuZ3RoIC0gcG9zaXRpb24sIE1BWF9QQVlMT0FEX1NJWkUpOwogICAgICBjb25zdCBjaHVuayA9IG5ldyBVaW50OEFycmF5KGZpbGVEYXRhLCBwb3NpdGlvbiwgbGVuZ3RoKTsKICAgICAgcG9zaXRpb24gKz0gbGVuZ3RoOwoKICAgICAgY29uc3QgYmFzZTY0ID0gYnRvYShTdHJpbmcuZnJvbUNoYXJDb2RlLmFwcGx5KG51bGwsIGNodW5rKSk7CiAgICAgIHlpZWxkIHsKICAgICAgICByZXNwb25zZTogewogICAgICAgICAgYWN0aW9uOiAnYXBwZW5kJywKICAgICAgICAgIGZpbGU6IGZpbGUubmFtZSwKICAgICAgICAgIGRhdGE6IGJhc2U2NCwKICAgICAgICB9LAogICAgICB9OwogICAgICBwZXJjZW50LnRleHRDb250ZW50ID0KICAgICAgICAgIGAke01hdGgucm91bmQoKHBvc2l0aW9uIC8gZmlsZURhdGEuYnl0ZUxlbmd0aCkgKiAxMDApfSUgZG9uZWA7CiAgICB9CiAgfQoKICAvLyBBbGwgZG9uZS4KICB5aWVsZCB7CiAgICByZXNwb25zZTogewogICAgICBhY3Rpb246ICdjb21wbGV0ZScsCiAgICB9CiAgfTsKfQoKc2NvcGUuZ29vZ2xlID0gc2NvcGUuZ29vZ2xlIHx8IHt9OwpzY29wZS5nb29nbGUuY29sYWIgPSBzY29wZS5nb29nbGUuY29sYWIgfHwge307CnNjb3BlLmdvb2dsZS5jb2xhYi5fZmlsZXMgPSB7CiAgX3VwbG9hZEZpbGVzLAogIF91cGxvYWRGaWxlc0NvbnRpbnVlLAp9Owp9KShzZWxmKTsK",
              "ok": true,
              "headers": [
                [
                  "content-type",
                  "application/javascript"
                ]
              ],
              "status": 200,
              "status_text": ""
            }
          },
          "base_uri": "https://localhost:8080/",
          "height": 174
        },
        "outputId": "4d6cb06e-19b5-4bba-9d8d-621cd3d174f3"
      },
      "source": [
        "import pandas as pd\n",
        "\n",
        "from google.colab import files\n",
        "file = files.upload()\n",
        "X_train = pd.read_csv(\"xtrain.csv\", header=None)\n",
        "Y_train = pd.read_csv(\"ytrain.csv\", header=None)\n",
        "X_test = pd.read_csv(\"xtest.csv\", header=None)\n",
        "Y_test = pd.read_csv(\"ytest.csv\", header=None)"
      ],
      "execution_count": null,
      "outputs": [
        {
          "output_type": "display_data",
          "data": {
            "text/html": [
              "\n",
              "     <input type=\"file\" id=\"files-3f8ec973-8a02-4a07-bcf6-16c76ca699d9\" name=\"files[]\" multiple disabled\n",
              "        style=\"border:none\" />\n",
              "     <output id=\"result-3f8ec973-8a02-4a07-bcf6-16c76ca699d9\">\n",
              "      Upload widget is only available when the cell has been executed in the\n",
              "      current browser session. Please rerun this cell to enable.\n",
              "      </output>\n",
              "      <script src=\"/nbextensions/google.colab/files.js\"></script> "
            ],
            "text/plain": [
              "<IPython.core.display.HTML object>"
            ]
          },
          "metadata": {
            "tags": []
          }
        },
        {
          "output_type": "stream",
          "text": [
            "Saving xtest.csv to xtest.csv\n",
            "Saving xtrain.csv to xtrain.csv\n",
            "Saving ytest.csv to ytest.csv\n",
            "Saving ytrain.csv to ytrain.csv\n"
          ],
          "name": "stdout"
        }
      ]
    },
    {
      "cell_type": "markdown",
      "metadata": {
        "id": "bL4z0BArzqff"
      },
      "source": [
        "Now I'm going to use Keras to define a Neural network that will be trained off of this data. This Neural Network can then be used to predict future values for breast cancer presence. "
      ]
    },
    {
      "cell_type": "code",
      "metadata": {
        "id": "LoWtmalR80De"
      },
      "source": [
        "from keras.models import Sequential\n",
        "from keras.layers import Dense\n",
        "\n",
        "classifier = Sequential() # Initialising the ANN\n",
        "\n",
        "classifier.add(Dense(units = 16, activation = 'relu', input_dim = 30))\n",
        "classifier.add(Dense(units = 8, activation = 'relu'))\n",
        "classifier.add(Dense(units = 6, activation = 'relu'))\n",
        "classifier.add(Dense(units = 1, activation = 'sigmoid'))"
      ],
      "execution_count": null,
      "outputs": []
    },
    {
      "cell_type": "markdown",
      "metadata": {
        "id": "cJ_MStxe9CbN"
      },
      "source": [
        "Once the Neural Network is defined, I now have to specify is the optimizer and loss function"
      ]
    },
    {
      "cell_type": "code",
      "metadata": {
        "id": "wR2O00E39C7E"
      },
      "source": [
        "classifier.compile(optimizer = 'rmsprop', loss = 'binary_crossentropy')"
      ],
      "execution_count": null,
      "outputs": []
    },
    {
      "cell_type": "markdown",
      "metadata": {
        "id": "Mn9WPqaP9RmN"
      },
      "source": [
        "You now train the neural network using Classifier.fit, passing it the training data -- i.e. for this set of X, this is what the Y should look like. The NN will then spot the patterns in the data, and build a neural network that could replicate that. "
      ]
    },
    {
      "cell_type": "code",
      "metadata": {
        "id": "1QlYnFgH9N49",
        "colab": {
          "base_uri": "https://localhost:8080/",
          "height": 1000
        },
        "outputId": "2922e43f-08c2-4371-c336-c479af573f71"
      },
      "source": [
        "classifier.fit(X_train, Y_train, batch_size = 1, epochs = 100)"
      ],
      "execution_count": null,
      "outputs": [
        {
          "output_type": "stream",
          "text": [
            "Epoch 1/100\n",
            "455/455 [==============================] - 0s 854us/step - loss: 0.5507\n",
            "Epoch 2/100\n",
            "455/455 [==============================] - 0s 864us/step - loss: 0.3431\n",
            "Epoch 3/100\n",
            "455/455 [==============================] - 0s 926us/step - loss: 0.2968\n",
            "Epoch 4/100\n",
            "455/455 [==============================] - 0s 873us/step - loss: 0.2517\n",
            "Epoch 5/100\n",
            "455/455 [==============================] - 0s 858us/step - loss: 0.2252\n",
            "Epoch 6/100\n",
            "455/455 [==============================] - 0s 859us/step - loss: 0.1957\n",
            "Epoch 7/100\n",
            "455/455 [==============================] - 0s 875us/step - loss: 0.1807\n",
            "Epoch 8/100\n",
            "455/455 [==============================] - 0s 940us/step - loss: 0.1609\n",
            "Epoch 9/100\n",
            "455/455 [==============================] - 0s 929us/step - loss: 0.1453\n",
            "Epoch 10/100\n",
            "455/455 [==============================] - 0s 869us/step - loss: 0.1360\n",
            "Epoch 11/100\n",
            "455/455 [==============================] - 0s 949us/step - loss: 0.1235\n",
            "Epoch 12/100\n",
            "455/455 [==============================] - 0s 986us/step - loss: 0.1172\n",
            "Epoch 13/100\n",
            "455/455 [==============================] - 0s 904us/step - loss: 0.1132\n",
            "Epoch 14/100\n",
            "455/455 [==============================] - 0s 911us/step - loss: 0.1088\n",
            "Epoch 15/100\n",
            "455/455 [==============================] - 0s 854us/step - loss: 0.0972\n",
            "Epoch 16/100\n",
            "455/455 [==============================] - 0s 855us/step - loss: 0.0923\n",
            "Epoch 17/100\n",
            "455/455 [==============================] - 0s 859us/step - loss: 0.0879\n",
            "Epoch 18/100\n",
            "455/455 [==============================] - 0s 846us/step - loss: 0.0833\n",
            "Epoch 19/100\n",
            "455/455 [==============================] - 0s 870us/step - loss: 0.0809\n",
            "Epoch 20/100\n",
            "455/455 [==============================] - 0s 842us/step - loss: 0.0813\n",
            "Epoch 21/100\n",
            "455/455 [==============================] - 0s 880us/step - loss: 0.0752\n",
            "Epoch 22/100\n",
            "455/455 [==============================] - 0s 885us/step - loss: 0.0843\n",
            "Epoch 23/100\n",
            "455/455 [==============================] - 0s 981us/step - loss: 0.0710\n",
            "Epoch 24/100\n",
            "455/455 [==============================] - 0s 928us/step - loss: 0.0714\n",
            "Epoch 25/100\n",
            "455/455 [==============================] - 0s 870us/step - loss: 0.0686\n",
            "Epoch 26/100\n",
            "455/455 [==============================] - 0s 902us/step - loss: 0.0644\n",
            "Epoch 27/100\n",
            "455/455 [==============================] - 0s 924us/step - loss: 0.0658\n",
            "Epoch 28/100\n",
            "455/455 [==============================] - 0s 843us/step - loss: 0.0689\n",
            "Epoch 29/100\n",
            "455/455 [==============================] - 0s 890us/step - loss: 0.0730\n",
            "Epoch 30/100\n",
            "455/455 [==============================] - 0s 906us/step - loss: 0.0676\n",
            "Epoch 31/100\n",
            "455/455 [==============================] - 0s 825us/step - loss: 0.0637\n",
            "Epoch 32/100\n",
            "455/455 [==============================] - 0s 915us/step - loss: 0.0638\n",
            "Epoch 33/100\n",
            "455/455 [==============================] - 0s 854us/step - loss: 0.0621\n",
            "Epoch 34/100\n",
            "455/455 [==============================] - 0s 864us/step - loss: 0.0607\n",
            "Epoch 35/100\n",
            "455/455 [==============================] - 0s 872us/step - loss: 0.0623\n",
            "Epoch 36/100\n",
            "455/455 [==============================] - 0s 848us/step - loss: 0.0666\n",
            "Epoch 37/100\n",
            "455/455 [==============================] - 0s 925us/step - loss: 0.0632\n",
            "Epoch 38/100\n",
            "455/455 [==============================] - 0s 834us/step - loss: 0.0573\n",
            "Epoch 39/100\n",
            "455/455 [==============================] - 0s 870us/step - loss: 0.0685\n",
            "Epoch 40/100\n",
            "455/455 [==============================] - 0s 887us/step - loss: 0.0683\n",
            "Epoch 41/100\n",
            "455/455 [==============================] - 0s 912us/step - loss: 0.0579\n",
            "Epoch 42/100\n",
            "455/455 [==============================] - 0s 911us/step - loss: 0.0638\n",
            "Epoch 43/100\n",
            "455/455 [==============================] - 0s 839us/step - loss: 0.0685\n",
            "Epoch 44/100\n",
            "455/455 [==============================] - 0s 960us/step - loss: 0.0707\n",
            "Epoch 45/100\n",
            "455/455 [==============================] - 0s 881us/step - loss: 0.0606\n",
            "Epoch 46/100\n",
            "455/455 [==============================] - 0s 877us/step - loss: 0.0710\n",
            "Epoch 47/100\n",
            "455/455 [==============================] - 0s 940us/step - loss: 0.0640\n",
            "Epoch 48/100\n",
            "455/455 [==============================] - 0s 846us/step - loss: 0.0681\n",
            "Epoch 49/100\n",
            "455/455 [==============================] - 0s 885us/step - loss: 0.0647\n",
            "Epoch 50/100\n",
            "455/455 [==============================] - 0s 889us/step - loss: 0.0648\n",
            "Epoch 51/100\n",
            "455/455 [==============================] - 0s 873us/step - loss: 0.0680\n",
            "Epoch 52/100\n",
            "455/455 [==============================] - 0s 870us/step - loss: 0.0628\n",
            "Epoch 53/100\n",
            "455/455 [==============================] - 0s 850us/step - loss: 0.0629\n",
            "Epoch 54/100\n",
            "455/455 [==============================] - 0s 925us/step - loss: 0.0578\n",
            "Epoch 55/100\n",
            "455/455 [==============================] - 0s 867us/step - loss: 0.0579\n",
            "Epoch 56/100\n",
            "455/455 [==============================] - 0s 848us/step - loss: 0.0643\n",
            "Epoch 57/100\n",
            "455/455 [==============================] - 0s 872us/step - loss: 0.0573\n",
            "Epoch 58/100\n",
            "455/455 [==============================] - 0s 870us/step - loss: 0.0523\n",
            "Epoch 59/100\n",
            "455/455 [==============================] - 0s 984us/step - loss: 0.0628\n",
            "Epoch 60/100\n",
            "455/455 [==============================] - 0s 1ms/step - loss: 0.0598\n",
            "Epoch 61/100\n",
            "455/455 [==============================] - 0s 871us/step - loss: 0.0587\n",
            "Epoch 62/100\n",
            "455/455 [==============================] - 0s 878us/step - loss: 0.0547\n",
            "Epoch 63/100\n",
            "455/455 [==============================] - 0s 899us/step - loss: 0.0731\n",
            "Epoch 64/100\n",
            "455/455 [==============================] - 0s 855us/step - loss: 0.0560\n",
            "Epoch 65/100\n",
            "455/455 [==============================] - 0s 857us/step - loss: 0.0529\n",
            "Epoch 66/100\n",
            "455/455 [==============================] - 0s 868us/step - loss: 0.0499\n",
            "Epoch 67/100\n",
            "455/455 [==============================] - 0s 896us/step - loss: 0.0559\n",
            "Epoch 68/100\n",
            "455/455 [==============================] - 0s 890us/step - loss: 0.0610\n",
            "Epoch 69/100\n",
            "455/455 [==============================] - 0s 1ms/step - loss: 0.0566\n",
            "Epoch 70/100\n",
            "455/455 [==============================] - 0s 849us/step - loss: 0.0576\n",
            "Epoch 71/100\n",
            "455/455 [==============================] - 0s 880us/step - loss: 0.0467\n",
            "Epoch 72/100\n",
            "455/455 [==============================] - 0s 899us/step - loss: 0.0703\n",
            "Epoch 73/100\n",
            "455/455 [==============================] - 0s 868us/step - loss: 0.0582\n",
            "Epoch 74/100\n",
            "455/455 [==============================] - 0s 873us/step - loss: 0.0522\n",
            "Epoch 75/100\n",
            "455/455 [==============================] - 0s 886us/step - loss: 0.0536\n",
            "Epoch 76/100\n",
            "455/455 [==============================] - 0s 880us/step - loss: 0.0585\n",
            "Epoch 77/100\n",
            "455/455 [==============================] - 0s 890us/step - loss: 0.0455\n",
            "Epoch 78/100\n",
            "455/455 [==============================] - 0s 999us/step - loss: 0.0490\n",
            "Epoch 79/100\n",
            "455/455 [==============================] - 0s 1ms/step - loss: 0.0457\n",
            "Epoch 80/100\n",
            "455/455 [==============================] - 0s 1ms/step - loss: 0.0378\n",
            "Epoch 81/100\n",
            "455/455 [==============================] - 1s 1ms/step - loss: 0.0408\n",
            "Epoch 82/100\n",
            "455/455 [==============================] - 1s 1ms/step - loss: 0.0286\n",
            "Epoch 83/100\n",
            "455/455 [==============================] - 0s 1ms/step - loss: 0.0445\n",
            "Epoch 84/100\n",
            "455/455 [==============================] - 0s 1ms/step - loss: 0.0357\n",
            "Epoch 85/100\n",
            "455/455 [==============================] - 0s 1ms/step - loss: 0.0346\n",
            "Epoch 86/100\n",
            "455/455 [==============================] - 0s 1ms/step - loss: 0.0303\n",
            "Epoch 87/100\n",
            "455/455 [==============================] - 0s 1ms/step - loss: 0.0233\n",
            "Epoch 88/100\n",
            "455/455 [==============================] - 0s 1ms/step - loss: 0.0312\n",
            "Epoch 89/100\n",
            "455/455 [==============================] - 0s 1ms/step - loss: 0.0377\n",
            "Epoch 90/100\n",
            "455/455 [==============================] - 0s 944us/step - loss: 0.0272\n",
            "Epoch 91/100\n",
            "455/455 [==============================] - 0s 919us/step - loss: 0.0210\n",
            "Epoch 92/100\n",
            "455/455 [==============================] - 0s 860us/step - loss: 0.0367\n",
            "Epoch 93/100\n",
            "455/455 [==============================] - 0s 876us/step - loss: 0.0323\n",
            "Epoch 94/100\n",
            "455/455 [==============================] - 0s 875us/step - loss: 0.0236\n",
            "Epoch 95/100\n",
            "455/455 [==============================] - 0s 895us/step - loss: 0.0415\n",
            "Epoch 96/100\n",
            "455/455 [==============================] - 0s 901us/step - loss: 0.0325\n",
            "Epoch 97/100\n",
            "455/455 [==============================] - 0s 863us/step - loss: 0.0272\n",
            "Epoch 98/100\n",
            "455/455 [==============================] - 0s 926us/step - loss: 0.0302\n",
            "Epoch 99/100\n",
            "455/455 [==============================] - 0s 985us/step - loss: 0.0386\n",
            "Epoch 100/100\n",
            "455/455 [==============================] - 0s 867us/step - loss: 0.0291\n"
          ],
          "name": "stdout"
        },
        {
          "output_type": "execute_result",
          "data": {
            "text/plain": [
              "<tensorflow.python.keras.callbacks.History at 0x7fe739dfca20>"
            ]
          },
          "metadata": {
            "tags": []
          },
          "execution_count": 4
        }
      ]
    },
    {
      "cell_type": "markdown",
      "metadata": {
        "id": "yrnGgtfn9gsE"
      },
      "source": [
        "To predict new values, the Neural Network uses classifier.predict. I'm going to pass it the test values for X (which the Neural Network hasn't previously seen) and it will give me back a set of predictions. These predicitons will be probabilities, so I will clean them up by saying that if thye are greater than .5, I'll make them 1, else I'll make them 0."
      ]
    },
    {
      "cell_type": "code",
      "metadata": {
        "id": "xEaG0Tkx9fUU"
      },
      "source": [
        "Y_pred = classifier.predict(X_test)\n",
        "Y_pred = [ 1 if y>=0.5 else 0 for y in Y_pred ]"
      ],
      "execution_count": null,
      "outputs": []
    },
    {
      "cell_type": "markdown",
      "metadata": {
        "id": "oQK3Qo9h97OW"
      },
      "source": [
        "Now we can loop through the set of predicitons for the test set (called Y_pred) and the actual values for the test set (celled Y_test), and see how alike they are -- if they are the same, I'll increment 'correct', otherwise I'll incrememnt 'wrong'. \n",
        "\n",
        "You'll see the result is 100% accurate, even though the neural network reported a lower accuracy than that. Why? "
      ]
    },
    {
      "cell_type": "code",
      "metadata": {
        "id": "he_2VHJ_9yC1",
        "colab": {
          "base_uri": "https://localhost:8080/",
          "height": 68
        },
        "outputId": "c20500de-4724-45c5-97bf-7cb28d0177c0"
      },
      "source": [
        "total = 0\n",
        "correct = 0\n",
        "wrong = 0\n",
        "for i in Y_pred:\n",
        "  total=total+1\n",
        "  if(Y_test.at[i,0] == Y_pred[i]):\n",
        "    correct=correct+1\n",
        "  else:\n",
        "    wrong=wrong+1\n",
        "\n",
        "print(\"Total \" + str(total))\n",
        "print(\"Correct \" + str(correct))\n",
        "print(\"Wrong \" + str(wrong))"
      ],
      "execution_count": null,
      "outputs": [
        {
          "output_type": "stream",
          "text": [
            "Total 114\n",
            "Correct 114\n",
            "Wrong 0\n"
          ],
          "name": "stdout"
        }
      ]
    },
    {
      "cell_type": "code",
      "metadata": {
        "id": "7Au3-kjBUTPJ",
        "colab": {
          "base_uri": "https://localhost:8080/",
          "height": 34
        },
        "outputId": "59519253-000d-499a-f179-8d0a892b07ed"
      },
      "source": [
        "4+5"
      ],
      "execution_count": null,
      "outputs": [
        {
          "output_type": "execute_result",
          "data": {
            "text/plain": [
              "9"
            ]
          },
          "metadata": {
            "tags": []
          },
          "execution_count": 7
        }
      ]
    },
    {
      "cell_type": "code",
      "metadata": {
        "id": "ysKB25LIUX-3"
      },
      "source": [
        "import pandas as pd"
      ],
      "execution_count": null,
      "outputs": []
    },
    {
      "cell_type": "code",
      "metadata": {
        "id": "cUmGLTSfUgih"
      },
      "source": [
        "import numpy as np\n"
      ],
      "execution_count": null,
      "outputs": []
    },
    {
      "cell_type": "code",
      "metadata": {
        "id": "TGFh_pixUmxK"
      },
      "source": [
        ""
      ],
      "execution_count": null,
      "outputs": []
    },
    {
      "cell_type": "code",
      "metadata": {
        "id": "npDpCv17U2T4"
      },
      "source": [
        ""
      ],
      "execution_count": null,
      "outputs": []
    }
  ]
}