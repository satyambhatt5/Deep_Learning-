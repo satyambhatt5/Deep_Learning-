{
  "nbformat": 4,
  "nbformat_minor": 0,
  "metadata": {
    "accelerator": "GPU",
    "colab": {
      "name": "Project_work_customer_deep_learning__1___1_.ipynb",
      "private_outputs": true,
      "provenance": [],
      "collapsed_sections": []
    },
    "kernelspec": {
      "display_name": "Python 3",
      "language": "python",
      "name": "python3"
    },
    "language_info": {
      "codemirror_mode": {
        "name": "ipython",
        "version": 3
      },
      "file_extension": ".py",
      "mimetype": "text/x-python",
      "name": "python",
      "nbconvert_exporter": "python",
      "pygments_lexer": "ipython3",
      "version": "3.7.6"
    }
  },
  "cells": [
    {
      "cell_type": "code",
      "metadata": {
        "id": "GfY5UkeZ80tL"
      },
      "source": [
        "import pandas as pd \n",
        "import numpy as np \n",
        "import matplotlib.pyplot as plt\n",
        "import tensorflow as tf "
      ],
      "execution_count": null,
      "outputs": []
    },
    {
      "cell_type": "code",
      "metadata": {
        "id": "iWSI5ivD-3Ns"
      },
      "source": [
        "cd=pd.read_csv(\"/content/drive/MyDrive/Colab Notebooks/Practice Data Set/customer_churn.csv\")\n"
      ],
      "execution_count": null,
      "outputs": []
    },
    {
      "cell_type": "code",
      "metadata": {
        "id": "uhWkWiDbjYeC"
      },
      "source": [
        "cd"
      ],
      "execution_count": null,
      "outputs": []
    },
    {
      "cell_type": "markdown",
      "metadata": {
        "id": "7HUPlQiu_GYK"
      },
      "source": [
        "Tasks to be done:\n",
        "\n",
        "A) Data Manipulation: \n",
        "\n",
        "a. Find the total number of male customers \n",
        "\n",
        "b. Find the total number of customers whose Internet Service is ‘DSL’\n",
        "\n",
        "c. Extract all the Female senior citizens whose Payment Method is Mailed check\n",
        " & store the result in ‘new_customer’\n",
        "\n",
        "d. Extract all those customers whose tenure is less than 10 months or their \n",
        "Total charges is less \n",
        "\n",
        "than 500$ & store the result in ‘new_customer"
      ]
    },
    {
      "cell_type": "code",
      "metadata": {
        "id": "r0fnsg9hjh3Y"
      },
      "source": [
        ""
      ],
      "execution_count": null,
      "outputs": []
    },
    {
      "cell_type": "code",
      "metadata": {
        "id": "Igie4esTAeiK"
      },
      "source": [
        "from google.colab import drive\n",
        "drive.mount('/content/drive')"
      ],
      "execution_count": null,
      "outputs": []
    },
    {
      "cell_type": "code",
      "metadata": {
        "id": "S9HfbJD6_TPu"
      },
      "source": [
        "cd.describe()\n",
        "cd.info()"
      ],
      "execution_count": null,
      "outputs": []
    },
    {
      "cell_type": "code",
      "metadata": {
        "id": "GrjhSocr_vH0"
      },
      "source": [
        "import pandas_profiling\n",
        "\n",
        "#!pip install https://github.com/pandas-profiling/pandas-profiling/archive/master.zip"
      ],
      "execution_count": null,
      "outputs": []
    },
    {
      "cell_type": "code",
      "metadata": {
        "id": "lilnSeMx_4Gp"
      },
      "source": [
        "import numpy as np\n",
        "#from pandas_profiling import profile_report"
      ],
      "execution_count": null,
      "outputs": []
    },
    {
      "cell_type": "code",
      "metadata": {
        "id": "rzcppxOcEHjH"
      },
      "source": [
        "#pandas_profiling.ProfileReport(cd)"
      ],
      "execution_count": null,
      "outputs": []
    },
    {
      "cell_type": "code",
      "metadata": {
        "id": "B4NNloBpEcJz"
      },
      "source": [
        "cd.describe()"
      ],
      "execution_count": null,
      "outputs": []
    },
    {
      "cell_type": "code",
      "metadata": {
        "id": "XpOUwaVZE1PH"
      },
      "source": [
        "cd.dtypes"
      ],
      "execution_count": null,
      "outputs": []
    },
    {
      "cell_type": "code",
      "metadata": {
        "id": "3BXePhzGE6P1"
      },
      "source": [
        "\n",
        "#now here total charges is object so that we need to convert into the numerric value \n",
        "\n",
        "cd.TotalCharges=pd.to_numeric(cd.TotalCharges,errors='coerce')\n",
        "cd.isnull().sum()"
      ],
      "execution_count": null,
      "outputs": []
    },
    {
      "cell_type": "code",
      "metadata": {
        "id": "29K0mQFIF00Y"
      },
      "source": [
        "#let fill with na \n",
        "\n",
        "cd.dropna(inplace=True)\n",
        "cd.isnull().sum()\n",
        "\n"
      ],
      "execution_count": null,
      "outputs": []
    },
    {
      "cell_type": "code",
      "metadata": {
        "id": "mVwKv17sG3ap"
      },
      "source": [
        "cd1=cd.iloc[:,1:]\n",
        "\n",
        "\n",
        "\n"
      ],
      "execution_count": null,
      "outputs": []
    },
    {
      "cell_type": "code",
      "metadata": {
        "id": "L_4FeSzyHL7Y"
      },
      "source": [
        "names = cd1[\"Churn\"].value_counts().keys().tolist() \n",
        "sizes= cd1[\"Churn\"].value_counts().tolist()"
      ],
      "execution_count": null,
      "outputs": []
    },
    {
      "cell_type": "code",
      "metadata": {
        "id": "9eDFozMCKDDR"
      },
      "source": [
        "plt.pie(sizes,labels=names,autopct=\"%0.1f%%\") \n",
        "plt.show()"
      ],
      "execution_count": null,
      "outputs": []
    },
    {
      "cell_type": "code",
      "metadata": {
        "id": "L-kulrViKNvy"
      },
      "source": [
        "plt.bar(cd1['InternetService'].value_counts().keys().tolist(),cd1['InternetService'].value_counts().tolist(),color='orange') \n",
        "#We are creating the bar-plot using plt.bar() \n",
        "plt.xlabel('Categories of Internet Service') \n",
        "plt.ylabel('Count of categories')\n",
        "plt.title('Distribution of Internet Service') \n",
        "plt.show()"
      ],
      "execution_count": null,
      "outputs": []
    },
    {
      "cell_type": "code",
      "metadata": {
        "id": "Juodhg65X52s"
      },
      "source": [
        "#Convertin the predictor variable in a binary numeric variable\n",
        "\n",
        "cd1['Churn'].replace(to_replace='Yes', value=1, inplace=True)\n",
        "cd1['Churn'].replace(to_replace='No',  value=0, inplace=True)"
      ],
      "execution_count": null,
      "outputs": []
    },
    {
      "cell_type": "code",
      "metadata": {
        "id": "-texoUe-KiJJ"
      },
      "source": [
        "#now split the data set into train and split \n",
        "\n",
        "x=cd1[['tenure']].values\n",
        "y=cd1[['Churn']].values\n",
        "y\n",
        "\n"
      ],
      "execution_count": null,
      "outputs": []
    },
    {
      "cell_type": "code",
      "metadata": {
        "id": "mcVxHY0dLEKL"
      },
      "source": [
        "from sklearn.model_selection import train_test_split\n",
        "\n"
      ],
      "execution_count": null,
      "outputs": []
    },
    {
      "cell_type": "code",
      "metadata": {
        "id": "b7-MAIh6LjCF"
      },
      "source": [
        "x_train,x_test,y_train,y_test=train_test_split(x,y,test_size=.30,random_state=42)\n"
      ],
      "execution_count": null,
      "outputs": []
    },
    {
      "cell_type": "code",
      "metadata": {
        "id": "W0ko_TjJL9Ho"
      },
      "source": [
        "x_train.shape,y_train.shape,x_test.shape,y_test.shape"
      ],
      "execution_count": null,
      "outputs": []
    },
    {
      "cell_type": "code",
      "metadata": {
        "id": "6xIzIo2fYKGT"
      },
      "source": [
        ""
      ],
      "execution_count": null,
      "outputs": []
    },
    {
      "cell_type": "code",
      "metadata": {
        "id": "kvFV0EIOMJCv"
      },
      "source": [
        "from tensorflow.keras.models import Sequential\n",
        "from tensorflow.keras.layers import Dense,Dropout\n",
        "from tensorflow.keras.losses import binary_crossentropy,categorical_crossentropy\n",
        "from tensorflow.keras.activations import relu,sigmoid\n",
        "from tensorflow.keras.optimizers import Adam\n"
      ],
      "execution_count": null,
      "outputs": []
    },
    {
      "cell_type": "code",
      "metadata": {
        "id": "MXzR0wtfYRFP"
      },
      "source": [
        "#del model"
      ],
      "execution_count": null,
      "outputs": []
    },
    {
      "cell_type": "code",
      "metadata": {
        "id": "x01S0nnaYIgR"
      },
      "source": [
        "model = Sequential() \n",
        "model.add(Dense(12, input_dim=1, activation='relu')) \n",
        "model.add(Dense(8, activation='relu')) \n",
        "model.add(Dense(1, activation='sigmoid'))"
      ],
      "execution_count": null,
      "outputs": []
    },
    {
      "cell_type": "code",
      "metadata": {
        "id": "7rRPB__zMoue"
      },
      "source": [
        "#now optomize the model \n",
        "\n",
        "model.compile(optimizer=Adam(),loss='binary_crossentropy',metrics=['acc'])"
      ],
      "execution_count": null,
      "outputs": []
    },
    {
      "cell_type": "code",
      "metadata": {
        "id": "a6maAFmFOTzU"
      },
      "source": [
        "model.fit(x_train,y_train,epochs=20,validation_split=0.2)"
      ],
      "execution_count": null,
      "outputs": []
    },
    {
      "cell_type": "code",
      "metadata": {
        "id": "oXOfJ2GwOubX"
      },
      "source": [
        "model = Sequential() \r\n",
        "model.add(Dense(12, input_dim=1, activation='relu')) \r\n",
        "model.add(Dropout(rate=0.3))\r\n",
        "model.add(Dense(8, activation='relu')) \r\n",
        "model.add(Dropout(0.2))\r\n",
        "model.add(Dense(1, activation='sigmoid'))"
      ],
      "execution_count": null,
      "outputs": []
    },
    {
      "cell_type": "code",
      "metadata": {
        "id": "l1YUYYS6mQQ5"
      },
      "source": [
        "model.compile(optimizer=Adam(),loss='binary_crossentropy',metrics=['acc'])"
      ],
      "execution_count": null,
      "outputs": []
    },
    {
      "cell_type": "code",
      "metadata": {
        "id": "i2qMz-cFmWLq"
      },
      "source": [
        "model_history=model.fit(x_train,y_train,epochs=20,validation_split=0.2)"
      ],
      "execution_count": null,
      "outputs": []
    },
    {
      "cell_type": "code",
      "metadata": {
        "id": "HhAk6ej5mY7Z"
      },
      "source": [
        "x_test\r\n",
        "y_pred=model.predict_classes(x_test) \r\n"
      ],
      "execution_count": null,
      "outputs": []
    },
    {
      "cell_type": "code",
      "metadata": {
        "id": "Wv4HVDs6m3Ox"
      },
      "source": [
        "from sklearn.metrics import confusion_matrix \r\n",
        "confusion_matrix(y_test,y_pred)\r\n"
      ],
      "execution_count": null,
      "outputs": []
    },
    {
      "cell_type": "code",
      "metadata": {
        "id": "x7l2mxLansyv"
      },
      "source": [
        "from sklearn.metrics import accuracy_score, recall_score, precision_score, f1_score, classification_report, confusion_matrix\r\n"
      ],
      "execution_count": null,
      "outputs": []
    },
    {
      "cell_type": "code",
      "metadata": {
        "id": "8qIWX7a4oGt2"
      },
      "source": [
        "confusion_matrix(y_test,y_pred)"
      ],
      "execution_count": null,
      "outputs": []
    },
    {
      "cell_type": "code",
      "metadata": {
        "id": "0S8sarHKoQFd"
      },
      "source": [
        "np.mean(model_history.history['val_acc'])"
      ],
      "execution_count": null,
      "outputs": []
    },
    {
      "cell_type": "code",
      "metadata": {
        "id": "ZhAUKqGVrfNX"
      },
      "source": [
        "plt.plot(model_history.history.get(\"loss\"),label=\"Loss\")\r\n",
        "plt.plot(model_history.history.get(\"val_loss\"),label=\"Valid_loss\")\r\n",
        "plt.legend()\r\n",
        "plt.show()"
      ],
      "execution_count": null,
      "outputs": []
    },
    {
      "cell_type": "markdown",
      "metadata": {
        "id": "3A6ott9UtAqv"
      },
      "source": [
        "Build the 3rd model using ‘Tenure’, ’Monthly Charges’ & ‘Total Charges’ as the features and ‘Churn’ as the dependent/target column: \r\n",
        "\r\n",
        "i. The visible/input layer should have 12 nodes with ‘Relu’ as activation function.\r\n",
        "\r\n",
        "ii. This model would have 1 hidden layer with 8 nodes and ‘Relu’ as activation function\r\n",
        "\r\n",
        "iii. Use ‘Adam’ as the optimization algorithm\r\n",
        "\r\n",
        "iv. Fit the model on the train set, with number of epochs to be 150 \r\n",
        "\r\n",
        "v. Predict the values on the test set and build a confusion matrix \r\n",
        "\r\n",
        "vi. Plot the ‘Accuracy vs Epochs’ graph"
      ]
    },
    {
      "cell_type": "code",
      "metadata": {
        "id": "6oWmOD1sr2_b"
      },
      "source": [
        "#now split the data set into train and split \r\n",
        "\r\n",
        "X=cd1[['tenure','MonthlyCharges','TotalCharges']]\r\n",
        "y=cd1[['Churn']]\r\n",
        "\r\n",
        "\r\n",
        "\r\n"
      ],
      "execution_count": null,
      "outputs": []
    },
    {
      "cell_type": "code",
      "metadata": {
        "id": "urA7ZlE8t9WC"
      },
      "source": [
        "X_train,X_test,y_train,y_test=train_test_split(X,y,test_size=0.3,random_state=42)"
      ],
      "execution_count": null,
      "outputs": []
    },
    {
      "cell_type": "code",
      "metadata": {
        "id": "1ds2aYXMuhqm"
      },
      "source": [
        " \r\n",
        "model = Sequential() \r\n",
        "model.add(Dense(12, input_dim=3, activation='relu')) \r\n",
        "model.add(Dense(8, activation='relu')) \r\n",
        "model.add(Dense(1, activation='sigmoid')) \r\n",
        "model.compile(loss='binary_crossentropy', optimizer='adam', metrics=['accuracy']) "
      ],
      "execution_count": null,
      "outputs": []
    },
    {
      "cell_type": "code",
      "metadata": {
        "id": "1CFDxTFmu5Mn"
      },
      "source": [
        "model.compile(optimizer=Adam(),loss='binary_crossentropy',metrics=['acc'])"
      ],
      "execution_count": null,
      "outputs": []
    },
    {
      "cell_type": "code",
      "metadata": {
        "id": "HpO0_rO7vNzW"
      },
      "source": [
        "model.fit(X_train, y_train, epochs=150,validation_data=(X_test,y_test)) \r\n"
      ],
      "execution_count": null,
      "outputs": []
    },
    {
      "cell_type": "code",
      "metadata": {
        "id": "ZppnI6flvpRd"
      },
      "source": [
        ""
      ],
      "execution_count": null,
      "outputs": []
    }
  ]
}