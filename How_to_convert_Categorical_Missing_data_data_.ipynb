{
  "nbformat": 4,
  "nbformat_minor": 0,
  "metadata": {
    "colab": {
      "name": "How to convert Categorical /Missing data data .ipynb",
      "private_outputs": true,
      "provenance": [],
      "authorship_tag": "ABX9TyOkFQB7MHowZ9Ykk2WGT0m/",
      "include_colab_link": true
    },
    "kernelspec": {
      "name": "python3",
      "display_name": "Python 3"
    }
  },
  "cells": [
    {
      "cell_type": "markdown",
      "metadata": {
        "id": "view-in-github",
        "colab_type": "text"
      },
      "source": [
        "<a href=\"https://colab.research.google.com/github/satyambhatt5/Deep_Learning-/blob/main/How_to_convert_Categorical_Missing_data_data_.ipynb\" target=\"_parent\"><img src=\"https://colab.research.google.com/assets/colab-badge.svg\" alt=\"Open In Colab\"/></a>"
      ]
    },
    {
      "cell_type": "code",
      "metadata": {
        "id": "5eP41cUkh4lq"
      },
      "source": [
        "#Use \"fit_transform\" on training data, but \"transform\" (only) on testing/new data\r\n",
        "\r\n",
        "import pandas as pd\r\n",
        "\r\n",
        "X = pd.DataFrame({'Shape':['square', 'square', 'oval', 'circle'],\r\n",
        "                  'Class': ['third', 'first', 'second', 'third'],\r\n",
        "                  'Size': ['S', 'S', 'L', 'XL']})\r\n",
        "# \"Shape\" is unordered, \"Class\" and \"Size\" are ordered\r\n",
        "\r\n",
        "X\r\n"
      ],
      "execution_count": null,
      "outputs": []
    },
    {
      "cell_type": "code",
      "metadata": {
        "id": "MI5lKPE3RLmb"
      },
      "source": [
        "from sklearn.preprocessing import OneHotEncoder, OrdinalEncoder\r\n",
        "# left-to-right column order is alphabetical (circle, oval, square)\r\n",
        "ohe = OneHotEncoder(sparse=False)\r\n",
        "\r\n",
        "ohe.fit_transform(X[['Shape']])"
      ],
      "execution_count": null,
      "outputs": []
    },
    {
      "cell_type": "code",
      "metadata": {
        "id": "wv3vZaqjRBXl"
      },
      "source": [
        "# category ordering (within each feature) is defined by you\r\n",
        "oe = OrdinalEncoder(categories=[['first', 'second', 'third'], ['S', 'M', 'L', 'XL']])\r\n",
        "oe.fit_transform(X[['Class', 'Size']])\r\n"
      ],
      "execution_count": null,
      "outputs": []
    },
    {
      "cell_type": "code",
      "metadata": {
        "id": "D0Gicw_QRIVE"
      },
      "source": [
        "#Q: For a one-hot encoded feature, what can you do if new data contains categories that weren't seen during training?\r\n",
        "\r\n",
        "#A: Set handle_unknown='ignore' to encode new categories as all zeros.\r\n",
        "\r\n",
        "#See example 👇\r\n",
        "\r\n",
        "#P.S. If you know all possible categories that might ever appear, you can instead specify the categories manually. handle_unknown='ignore' is useful specifically when you don't know all possible categories."
      ],
      "execution_count": null,
      "outputs": []
    },
    {
      "cell_type": "code",
      "metadata": {
        "id": "g_YNC-ExTFvb"
      },
      "source": [
        "import pandas as pd\r\n",
        "X = pd.DataFrame({'col':['A', 'B', 'C', 'B']})\r\n",
        "X_new = pd.DataFrame({'col':['A', 'C', 'D']})"
      ],
      "execution_count": null,
      "outputs": []
    },
    {
      "cell_type": "code",
      "metadata": {
        "id": "C58ltDCxTHNr"
      },
      "source": [
        "from sklearn.preprocessing import OneHotEncoder\r\n",
        "ohe = OneHotEncoder(sparse=False, handle_unknown='ignore')"
      ],
      "execution_count": null,
      "outputs": []
    },
    {
      "cell_type": "code",
      "metadata": {
        "id": "8d8ZyaeeTL_i"
      },
      "source": [
        "X"
      ],
      "execution_count": null,
      "outputs": []
    },
    {
      "cell_type": "code",
      "metadata": {
        "id": "nfyub7U3TXGG"
      },
      "source": [
        "# three columns represent categories A, B, and C\r\n",
        "ohe.fit_transform(X[['col']])"
      ],
      "execution_count": null,
      "outputs": []
    },
    {
      "cell_type": "code",
      "metadata": {
        "id": "FWOKB_dGTZw-"
      },
      "source": [
        "X_new"
      ],
      "execution_count": null,
      "outputs": []
    },
    {
      "cell_type": "code",
      "metadata": {
        "id": "U_GOVd0ETo5m"
      },
      "source": [
        "# category D is encoded as all zeros\r\n",
        "ohe.transform(X_new[['col']])"
      ],
      "execution_count": null,
      "outputs": []
    },
    {
      "cell_type": "code",
      "metadata": {
        "id": "TbedxmmMTr4H"
      },
      "source": [
        "#When imputing missing values, you can preserve info about which values were missing and use THAT as a feature!\r\n",
        "\r\n",
        "#Why? Sometimes there's a relationship between \"missingness\" and the target/label you are trying to predict.\r\n",
        "\r\n",
        "import pandas as pd\r\n",
        "import numpy as np"
      ],
      "execution_count": null,
      "outputs": []
    },
    {
      "cell_type": "code",
      "metadata": {
        "id": "1xKdPkKeXYiP"
      },
      "source": [
        "X = pd.DataFrame({'Age':[20, 30, 10, np.nan, 10]})\r\n"
      ],
      "execution_count": null,
      "outputs": []
    },
    {
      "cell_type": "code",
      "metadata": {
        "id": "T12sdVzYXalE"
      },
      "source": [
        "X\r\n"
      ],
      "execution_count": null,
      "outputs": []
    },
    {
      "cell_type": "code",
      "metadata": {
        "id": "3Xu8U8qdXct6"
      },
      "source": [
        "from sklearn.impute import SimpleImputer\r\n",
        "# impute the mean\r\n",
        "imputer = SimpleImputer()\r\n",
        "imputer.fit_transform(X)"
      ],
      "execution_count": null,
      "outputs": []
    },
    {
      "cell_type": "code",
      "metadata": {
        "id": "-h75dznkXj90"
      },
      "source": [
        "# impute the mean and add an indicator matrix (new in 0.21)\r\n",
        "imputer = SimpleImputer(add_indicator=True)\r\n",
        "imputer.fit_transform(X)"
      ],
      "execution_count": null,
      "outputs": []
    },
    {
      "cell_type": "code",
      "metadata": {
        "id": "9FlBoSjzXnS0"
      },
      "source": [
        "#make pipeline \r\n",
        "\r\n",
        "\r\n",
        "import pandas as pd\r\n",
        "import numpy as np\r\n",
        "train = pd.DataFrame({'feat1':[10, 20, np.nan, 2], 'feat2':[25., 20, 5, 3], 'label':['A', 'A', 'B', 'B']})\r\n",
        "test = pd.DataFrame({'feat1':[30., 5, 15], 'feat2':[12, 10, np.nan]})\r\n",
        "from sklearn.impute import SimpleImputer\r\n",
        "from sklearn.linear_model import LogisticRegression\r\n",
        "from sklearn.pipeline import make_pipeline\r\n",
        "imputer = SimpleImputer()\r\n",
        "clf = LogisticRegression()\r\n",
        "# 2-step pipeline: impute missing values, then pass the results to the classifier\r\n",
        "pipe = make_pipeline(imputer, clf)\r\n",
        "train"
      ],
      "execution_count": null,
      "outputs": []
    },
    {
      "cell_type": "code",
      "metadata": {
        "id": "NuAnnCnZYLyj"
      },
      "source": [
        "features = ['feat1', 'feat2']\r\n",
        "X, y = train[features], train['label']\r\n",
        "X_new = test[features]\r\n",
        "# pipeline applies the imputer to X before fitting the classifier\r\n",
        "pipe.fit(X, y)\r\n",
        "\r\n",
        "# pipeline applies the imputer to X_new before making predictions\r\n",
        "# note: pipeline uses imputation values learned during the \"fit\" step\r\n",
        "pipe.predict(X_new)"
      ],
      "execution_count": null,
      "outputs": []
    },
    {
      "cell_type": "code",
      "metadata": {
        "id": "QyrehmKcYVGA"
      },
      "source": [
        "import pandas as pd\r\n",
        "df = pd.read_csv('http://bit.ly/kaggletrain', nrows=6)\r\n",
        "cols = ['SibSp', 'Fare', 'Age']\r\n",
        "X = df[cols]\r\n",
        "X"
      ],
      "execution_count": null,
      "outputs": []
    },
    {
      "cell_type": "code",
      "metadata": {
        "id": "RTbm4WIrYu2p"
      },
      "source": [
        "# new in 0.21, and still \"experimental\" so it must be enabled explicitly\r\n",
        "from sklearn.experimental import enable_iterative_imputer\r\n",
        "from sklearn.impute import IterativeImputer\r\n"
      ],
      "execution_count": null,
      "outputs": []
    },
    {
      "cell_type": "code",
      "metadata": {
        "id": "R7M5p_BbY1wx"
      },
      "source": [
        "impute_it = IterativeImputer()\r\n",
        "impute_it.fit_transform(X)"
      ],
      "execution_count": null,
      "outputs": []
    },
    {
      "cell_type": "code",
      "metadata": {
        "id": "nfK3ovv8Y4ja"
      },
      "source": [
        "# new in 0.22\r\n",
        "from sklearn.impute import KNNImputer\r\n",
        "impute_knn = KNNImputer(n_neighbors=2)\r\n",
        "impute_knn.fit_transform(X)"
      ],
      "execution_count": null,
      "outputs": []
    },
    {
      "cell_type": "code",
      "metadata": {
        "id": "2Azqi6saY8-j"
      },
      "source": [
        "# Pipeline requires naming of steps, \r\n",
        "#make_pipeline does not.\r\n",
        "\r\n",
        "import pandas as pd\r\n",
        "df = pd.read_csv('http://bit.ly/kaggletrain', nrows=6)\r\n",
        "cols = ['Embarked', 'Sex', 'Age', 'Fare']\r\n",
        "X = df[cols]\r\n",
        "from sklearn.preprocessing import OneHotEncoder\r\n",
        "from sklearn.impute import SimpleImputer\r\n",
        "from sklearn.linear_model import LogisticRegression\r\n",
        "ohe = OneHotEncoder()\r\n",
        "imp = SimpleImputer()\r\n",
        "clf = LogisticRegression()\r\n"
      ],
      "execution_count": null,
      "outputs": []
    },
    {
      "cell_type": "code",
      "metadata": {
        "id": "CJz8bP1rZXoi"
      },
      "source": [
        "#make_pipeline \r\n",
        "from sklearn.compose import make_column_transformer\r\n",
        "from sklearn.pipeline import make_pipeline\r\n",
        "ct = make_column_transformer(\r\n",
        "    (ohe, ['Embarked', 'Sex']),\r\n",
        "    (imp, ['Age']),\r\n",
        "    remainder='passthrough')\r\n",
        "pipe = make_pipeline(ct, clf)\r\n",
        "pipe\r\n"
      ],
      "execution_count": null,
      "outputs": []
    },
    {
      "cell_type": "code",
      "metadata": {
        "id": "JpBFQmRVZfTY"
      },
      "source": [
        "#pipe_line \r\n",
        "\r\n",
        "from sklearn.compose import ColumnTransformer\r\n",
        "from sklearn.pipeline import Pipeline\r\n",
        "ct = ColumnTransformer(\r\n",
        "    [('encoder', ohe, ['Embarked', 'Sex']),\r\n",
        "     ('imputer', imp, ['Age'])],\r\n",
        "    remainder='passthrough')\r\n",
        "pipe = Pipeline([('preprocessor', ct), ('classifier', clf)])\r\n",
        "pipe"
      ],
      "execution_count": null,
      "outputs": []
    },
    {
      "cell_type": "markdown",
      "metadata": {
        "id": "yqf447wzafd4"
      },
      "source": [
        "Imp[https://nbviewer.jupyter.org/github/justmarkham/scikit-learn-tips](https://)link "
      ]
    },
    {
      "cell_type": "code",
      "metadata": {
        "id": "CcZCRGecZug-"
      },
      "source": [
        ""
      ],
      "execution_count": null,
      "outputs": []
    }
  ]
}