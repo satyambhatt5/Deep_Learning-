{
  "nbformat": 4,
  "nbformat_minor": 0,
  "metadata": {
    "colab": {
      "name": "How to Use Bank System.ipynb",
      "provenance": [],
      "collapsed_sections": [],
      "authorship_tag": "ABX9TyMDcVMI7HdBoUHcdasx4nVC",
      "include_colab_link": true
    },
    "kernelspec": {
      "name": "python3",
      "display_name": "Python 3"
    }
  },
  "cells": [
    {
      "cell_type": "markdown",
      "metadata": {
        "id": "view-in-github",
        "colab_type": "text"
      },
      "source": [
        "<a href=\"https://colab.research.google.com/github/satyambhatt5/Deep_Learning-/blob/main/How_to_Use_Bank_System.ipynb\" target=\"_parent\"><img src=\"https://colab.research.google.com/assets/colab-badge.svg\" alt=\"Open In Colab\"/></a>"
      ]
    },
    {
      "cell_type": "markdown",
      "metadata": {
        "id": "7NTMyyLTgFw5"
      },
      "source": [
        "**How the atm will work let check **\r\n",
        "\r\n",
        "check balance \r\n",
        "\r\n",
        "Make a withdrwal\r\n",
        "\r\n",
        "Pay in\r\n",
        "\r\n",
        "Return card "
      ]
    },
    {
      "cell_type": "code",
      "metadata": {
        "colab": {
          "base_uri": "https://localhost:8080/"
        },
        "id": "pWiG5PjQXqqG",
        "outputId": "58b49d80-e28e-4699-d714-97fab6daa306"
      },
      "source": [
        "print(\"This is Satyam Bank Of India\")\r\n",
        "3\r\n",
        "3\r\n",
        "restart=('Y')\r\n",
        "chances=3\r\n",
        "balance=100000\r\n",
        "\r\n",
        "while chances>=0:\r\n",
        "  pin=int(input(\"Please enter the 4 digit pin:\"))\r\n",
        "  if pin==(1234):\r\n",
        "    print(\"You have Enter the password Correctly\\n\")\r\n",
        "    while restart not in ('n','No','no','N'):\r\n",
        "        print(\"Please Enter 1 for check the Balance\\n\")\r\n",
        "        print(\"Please Enter 2 for check the Withdrawl\\n\")\r\n",
        "        print(\"Please Enter 3 for check the Payin\\n\")\r\n",
        "        print(\"Please Enter 4 for check the Return Card\\n\")\r\n",
        "        option= int(input(\"what would you like to choose?\"))\r\n",
        "    \r\n",
        "\r\n",
        "#check the balance amount \r\n",
        "        if option==1:\r\n",
        "          print(\"your balance is $\",balance,'\\n')\r\n",
        "          restart=input(\"would you like go back?\")\r\n",
        "          if restart in ('n','No','no','N'):\r\n",
        "               print(\"Thank for banking with us\")\r\n",
        "               break\r\n",
        "\r\n",
        "#with draw amount details \r\n",
        "        elif option==2:\r\n",
        "            option2=('y')\r\n",
        "            withdrawl=float(input(\"How much would you like to with draw? \\n$10/$20/$30/$50/$80/$100\"))\r\n",
        "            if withdrawl in [10,20,30,50,80,100]:\r\n",
        "                balance=balance-withdrawl\r\n",
        "                print(\"\\n Your balance is now $\",balance)\r\n",
        "                restart=input(\"what would you like to do?\")\r\n",
        "                if restart in ('n','No','no','N'):\r\n",
        "                 print(\"Thank for banking with us\")\r\n",
        "                 break\r\n",
        "            elif withdrawl != [10,20,30,50,80,100]:\r\n",
        "               print(\"Invalid Amount Enter,Please Enter valid Amount\\n\")\r\n",
        "               restart=('y')\r\n",
        "            elif withdrawl==1: \r\n",
        "               withdrawl=float(input('Please Enter the Desire Amount:'))\r\n",
        "\r\n",
        "#Deposite the Amount\r\n",
        "\r\n",
        "        elif option==3:\r\n",
        "            \r\n",
        "            pay_in=float(input(\"How much would you like Deposite Pay in?\"))\r\n",
        "            balance= balance + pay_in\r\n",
        "            print(\"\\n Your balance is now\",balance)\r\n",
        "            restart=input(\"would you like to go back?\")\r\n",
        "            if restart in ('n','No','no','N'):\r\n",
        "               print(\"Thank You for banking with us\")\r\n",
        "               break\r\n",
        "\r\n",
        "#Return the card \r\n",
        "        elif option==4:\r\n",
        "           print(\"Please wait while your card is returned...\\n \")\r\n",
        "\r\n",
        "           print(\"Thank for banking with State Bank of India\")\r\n",
        "           break\r\n",
        "           \r\n",
        "        else:\r\n",
        "          print(\"Please Enter the correct Number.\\n\")\r\n",
        "          restart=('y')\r\n",
        "\r\n",
        "  elif pin !=(1234):\r\n",
        "    print(\"incorrect password\")\r\n",
        "    chances=chances-1\r\n",
        "    if chances==0:\r\n",
        "         print(\"\\n No more try,contact to support@sbi.com\")\r\n",
        "         break\r\n",
        "\r\n",
        "            "
      ],
      "execution_count": 2,
      "outputs": [
        {
          "output_type": "stream",
          "text": [
            "This is Satyam Bank Of India\n",
            "Please enter the 4 digit pin:1223\n",
            "incorrect password\n",
            "Please enter the 4 digit pin:2222\n",
            "incorrect password\n",
            "Please enter the 4 digit pin:2222\n",
            "incorrect password\n",
            "\n",
            " No more try,contact to support@sbi.com\n"
          ],
          "name": "stdout"
        }
      ]
    },
    {
      "cell_type": "markdown",
      "metadata": {
        "id": "A_e0N7ZkbblJ"
      },
      "source": [
        "NOW WE WORK FOR THE FUNCTION "
      ]
    },
    {
      "cell_type": "code",
      "metadata": {
        "id": "wsWTYyVzbamb"
      },
      "source": [
        "\r\n"
      ],
      "execution_count": null,
      "outputs": []
    },
    {
      "cell_type": "code",
      "metadata": {
        "colab": {
          "base_uri": "https://localhost:8080/"
        },
        "id": "aAhOGL0fcpD7",
        "outputId": "c756fb0e-1995-4330-c877-a85251906828"
      },
      "source": [
        ""
      ],
      "execution_count": null,
      "outputs": [
        {
          "output_type": "execute_result",
          "data": {
            "text/plain": [
              "<function __main__.my_func>"
            ]
          },
          "metadata": {
            "tags": []
          },
          "execution_count": 3
        }
      ]
    },
    {
      "cell_type": "code",
      "metadata": {
        "id": "GKa824Jjc6WK"
      },
      "source": [
        "#creating the fnction \r\n",
        "\r\n",
        "\r\n",
        "def my_function():\r\n",
        "  print(\"hellow from a function\")"
      ],
      "execution_count": null,
      "outputs": []
    },
    {
      "cell_type": "code",
      "metadata": {
        "colab": {
          "base_uri": "https://localhost:8080/"
        },
        "id": "Cp4Se1ncdU5H",
        "outputId": "7a4537cf-25ca-45f6-e629-baafe539ae35"
      },
      "source": [
        "#calling the function\r\n",
        "\r\n",
        "my_function()"
      ],
      "execution_count": null,
      "outputs": [
        {
          "output_type": "stream",
          "text": [
            "hellow from a function\n"
          ],
          "name": "stdout"
        }
      ]
    },
    {
      "cell_type": "code",
      "metadata": {
        "colab": {
          "base_uri": "https://localhost:8080/"
        },
        "id": "6yZSJs_YdbfT",
        "outputId": "fb5241e9-c914-4756-f8cc-252b2aa3751a"
      },
      "source": [
        "#information pass to the function\r\n",
        "\r\n",
        "def my_function(fname):\r\n",
        "  print(fname + \"refresh\")\r\n",
        "\r\n",
        "my_function(\"Email\")"
      ],
      "execution_count": null,
      "outputs": [
        {
          "output_type": "stream",
          "text": [
            "Emailrefresh\n"
          ],
          "name": "stdout"
        }
      ]
    },
    {
      "cell_type": "code",
      "metadata": {
        "colab": {
          "base_uri": "https://localhost:8080/"
        },
        "id": "c-Dk6RsHeHF3",
        "outputId": "f15d5e67-b53f-4147-cba7-6ed08e23e8b3"
      },
      "source": [
        "#default parameter value \r\n",
        "\r\n",
        "def my_function(country=\"Norway\"):\r\n",
        "  print(\"i am from \"+ country)\r\n",
        "  \r\n",
        "my_function(\"india\")\r\n"
      ],
      "execution_count": null,
      "outputs": [
        {
          "output_type": "stream",
          "text": [
            "i am from india\n"
          ],
          "name": "stdout"
        }
      ]
    },
    {
      "cell_type": "code",
      "metadata": {
        "id": "spJidkvde49t"
      },
      "source": [
        "#RETURN VALUE \r\n",
        "\r\n",
        "def my_function(x):\r\n",
        "  return 5*x"
      ],
      "execution_count": null,
      "outputs": []
    },
    {
      "cell_type": "code",
      "metadata": {
        "colab": {
          "base_uri": "https://localhost:8080/"
        },
        "id": "io-K5y4WfZPs",
        "outputId": "c71521f6-b513-47b7-f511-3d03e87cff26"
      },
      "source": [
        "my_function(5)"
      ],
      "execution_count": null,
      "outputs": [
        {
          "output_type": "execute_result",
          "data": {
            "text/plain": [
              "25"
            ]
          },
          "metadata": {
            "tags": []
          },
          "execution_count": 13
        }
      ]
    },
    {
      "cell_type": "code",
      "metadata": {
        "colab": {
          "base_uri": "https://localhost:8080/"
        },
        "id": "EfdYeUXZfcHA",
        "outputId": "32baf49b-4cdb-4dc0-ac47-9fe8d6b8a9b6"
      },
      "source": [
        "def my_func(k):\r\n",
        "  if (k>0):\r\n",
        "    result=k+my_func(k-1)\r\n",
        "    print(result)\r\n",
        "  else:\r\n",
        "    result=0\r\n",
        "  return result\r\n",
        "print(\"\\n\\n Recurssion exam result\")\r\n",
        "\r\n",
        "print(my_func(6), end=',')"
      ],
      "execution_count": null,
      "outputs": [
        {
          "output_type": "stream",
          "text": [
            "\n",
            "\n",
            " Recurssion exam result\n",
            "1\n",
            "3\n",
            "6\n",
            "10\n",
            "15\n",
            "21\n",
            "21,"
          ],
          "name": "stdout"
        }
      ]
    },
    {
      "cell_type": "code",
      "metadata": {
        "id": "uuWdYsDHfqqK"
      },
      "source": [
        "#Lambda \r\n",
        "\r\n",
        "\r\n",
        "#lambda arugument =expression\r\n",
        "\r\n",
        "\r\n"
      ],
      "execution_count": null,
      "outputs": []
    },
    {
      "cell_type": "code",
      "metadata": {
        "colab": {
          "base_uri": "https://localhost:8080/"
        },
        "id": "BVHYBjlPhPcN",
        "outputId": "2e734116-7274-4152-9a3c-3a2b0ae8917f"
      },
      "source": [
        "x=lambda a:a+10\r\n",
        "print(x(5))"
      ],
      "execution_count": null,
      "outputs": [
        {
          "output_type": "stream",
          "text": [
            "15\n"
          ],
          "name": "stdout"
        }
      ]
    },
    {
      "cell_type": "code",
      "metadata": {
        "id": "c1HhyhGQhhqa"
      },
      "source": [
        "-"
      ],
      "execution_count": null,
      "outputs": []
    }
  ]
}